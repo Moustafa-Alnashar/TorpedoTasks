{
 "cells": [
  {
   "cell_type": "code",
   "execution_count": 25,
   "metadata": {},
   "outputs": [],
   "source": [
    "import cv2\n",
    "import os"
   ]
  },
  {
   "cell_type": "code",
   "execution_count": 26,
   "metadata": {},
   "outputs": [],
   "source": [
    "#user set parameters\n",
    "image_path = \"GLOBEG_Icon.png\"\n",
    "frame = \"Rockly\""
   ]
  },
  {
   "cell_type": "code",
   "execution_count": 27,
   "metadata": {},
   "outputs": [],
   "source": [
    "#globals\n",
    "first_point = None\n",
    "second_point = None\n",
    "stop_callback = False"
   ]
  },
  {
   "cell_type": "code",
   "execution_count": 28,
   "metadata": {},
   "outputs": [],
   "source": [
    "def draw_rectangle(point1 : tuple, point2 : tuple, image, frame:str) -> None:\n",
    "    copy_image = image.copy()\n",
    "\n",
    "    cv2.rectangle(copy_image, point1, point2, (0,0,0),2)\n",
    "    cv2.imshow(frame, copy_image)"
   ]
  },
  {
   "cell_type": "code",
   "execution_count": 29,
   "metadata": {},
   "outputs": [],
   "source": [
    "def crop_image(im, point1 : tuple, point2 : tuple):\n",
    "    \n",
    "    left_x, right_x = min(point2[0], point1[0]), max(point2[0], point1[0])\n",
    "    top_y, bottom_y = min(point2[1], point1[1]), max(point2[1], point1[1])\n",
    "\n",
    "    return im[top_y:bottom_y, left_x:right_x]"
   ]
  },
  {
   "cell_type": "code",
   "execution_count": 30,
   "metadata": {},
   "outputs": [],
   "source": [
    "def mouse_click(event, x, y, flags, param):\n",
    "    global first_point, second_point, im, stop_callback\n",
    "    if (first_point == None) and (event == cv2.EVENT_LBUTTONDOWN):\n",
    "        first_point = (x,y)\n",
    "        \n",
    "    elif (second_point == None) and (event == cv2.EVENT_LBUTTONDOWN):\n",
    "        second_point = (x,y)\n",
    "        im = crop_image(im,first_point,second_point)\n",
    "        stop_callback = True\n",
    "        \n",
    "    elif (first_point != None) and (second_point == None) and event == cv2.EVENT_MOUSEMOVE:\n",
    "        draw_rectangle(first_point,(x,y),im,frame)\n"
   ]
  },
  {
   "cell_type": "code",
   "execution_count": 31,
   "metadata": {},
   "outputs": [],
   "source": [
    "def save_cropped_image(original_path, cropped_image):\n",
    "\n",
    "    directory, filename = os.path.split(original_path)\n",
    "    basename, extension = os.path.splitext(filename)\n",
    "    cropped_path = os.path.join(directory, f\"{basename}_cropped{extension}\")\n",
    "    cv2.imwrite(cropped_path, cropped_image)\n",
    "    \n",
    "    return cropped_path"
   ]
  },
  {
   "cell_type": "code",
   "execution_count": 32,
   "metadata": {},
   "outputs": [],
   "source": [
    "#main\n",
    "\n",
    "im = cv2.imread(image_path)\n",
    "cv2.imshow(frame,im)\n",
    "    \n",
    "cv2.setMouseCallback(frame, mouse_click)\n",
    "\n",
    "\n",
    "\n",
    "#programe main loop\n",
    "while True: \n",
    "\n",
    "    if cv2.waitKey(1) & 0xFF == ord('q'):\n",
    "        break\n",
    "\n",
    "    # Check if the window is closed manually using the \"X\" button\n",
    "    if cv2.getWindowProperty(frame, cv2.WND_PROP_VISIBLE) < 1:\n",
    "        break\n",
    "\n",
    "    if stop_callback:\n",
    "        #show results\n",
    "        cv2.imshow(frame,im)\n",
    "\n",
    "        #save the croped image to file\n",
    "        save_cropped_image(image_path, im)\n",
    "\n",
    "        #wait for the user to see the results\n",
    "        while True: \n",
    "            if cv2.getWindowProperty(frame, cv2.WND_PROP_VISIBLE) < 1:\n",
    "                break \n",
    "            if cv2.waitKey(1) & 0xFF == ord('q'): \n",
    "                break\n",
    "        \n",
    "        break\n",
    "cv2.destroyAllWindows()"
   ]
  }
 ],
 "metadata": {
  "kernelspec": {
   "display_name": "ImageProcessing",
   "language": "python",
   "name": "python3"
  },
  "language_info": {
   "codemirror_mode": {
    "name": "ipython",
    "version": 3
   },
   "file_extension": ".py",
   "mimetype": "text/x-python",
   "name": "python",
   "nbconvert_exporter": "python",
   "pygments_lexer": "ipython3",
   "version": "3.12.8"
  }
 },
 "nbformat": 4,
 "nbformat_minor": 2
}
