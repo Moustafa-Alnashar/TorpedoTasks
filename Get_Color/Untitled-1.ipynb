{
 "cells": [
  {
   "cell_type": "code",
   "execution_count": 19,
   "metadata": {},
   "outputs": [],
   "source": [
    "import cv2\n",
    "import numpy as np"
   ]
  },
  {
   "cell_type": "code",
   "execution_count": 20,
   "metadata": {},
   "outputs": [],
   "source": [
    "#user set parameters\n",
    "image_path = \"OIP.jpg\"\n",
    "frame = \"Anya Forger\""
   ]
  },
  {
   "cell_type": "code",
   "execution_count": 21,
   "metadata": {},
   "outputs": [],
   "source": [
    "#global\n",
    "\n",
    "stop_callback = False"
   ]
  },
  {
   "cell_type": "code",
   "execution_count": 22,
   "metadata": {},
   "outputs": [],
   "source": [
    "def crop_image(im, point : tuple):\n",
    "    \n",
    "    left_x, right_x = point[0] - 10, point[0] + 10\n",
    "    top_y, bottom_y = point[1] - 10, point[1] + 10\n",
    "\n",
    "    return im[top_y:bottom_y, left_x:right_x]"
   ]
  },
  {
   "cell_type": "code",
   "execution_count": 23,
   "metadata": {},
   "outputs": [],
   "source": [
    "def mouse_click(event, x, y, flags, param):\n",
    "    if event == cv2.EVENT_LBUTTONDOWN :\n",
    "        global im,stop_callback,frame\n",
    "\n",
    "        Color = im[y,x].astype(int)\n",
    "        lower_bound = np.array([max(0, c - 20) for c in Color])\n",
    "        upper_bound = np.array([min(255, c + 20) for c in Color])\n",
    "        \n",
    "        mask = cv2.inRange(im, lower_bound, upper_bound)\n",
    "    \n",
    "        all_colors_in_bound = cv2.bitwise_and(im,im, mask= mask)\n",
    "\n",
    "        cv2.imshow(\"all_colors_in_bound\",all_colors_in_bound)\n",
    "\n",
    "    if event == cv2.EVENT_RBUTTONDOWN:\n",
    "        cropped_image = crop_image(im,(x,y))\n",
    "        cv2.imshow(\"cropped_image\",cropped_image)\n"
   ]
  },
  {
   "cell_type": "code",
   "execution_count": 24,
   "metadata": {},
   "outputs": [],
   "source": [
    "#main\n",
    "\n",
    "im = cv2.imread(image_path)\n",
    "cv2.imshow(frame,im)\n",
    "    \n",
    "cv2.setMouseCallback(frame, mouse_click)\n",
    "\n",
    "\n",
    "#programe main loop\n",
    "while True: \n",
    "\n",
    "    if cv2.waitKey(1) & 0xFF == ord('q'):\n",
    "        break\n",
    "\n",
    "    # Check if the window is closed manually using the \"X\" button\n",
    "    if cv2.getWindowProperty(frame, cv2.WND_PROP_VISIBLE) < 1:\n",
    "        break\n",
    "\n",
    "    if cv2.getWindowProperty(frame, cv2.WND_PROP_VISIBLE) == None:\n",
    "        break\n",
    "\n",
    "cv2.destroyAllWindows()"
   ]
  }
 ],
 "metadata": {
  "kernelspec": {
   "display_name": "ImageProcessing",
   "language": "python",
   "name": "python3"
  },
  "language_info": {
   "codemirror_mode": {
    "name": "ipython",
    "version": 3
   },
   "file_extension": ".py",
   "mimetype": "text/x-python",
   "name": "python",
   "nbconvert_exporter": "python",
   "pygments_lexer": "ipython3",
   "version": "3.12.8"
  }
 },
 "nbformat": 4,
 "nbformat_minor": 2
}
