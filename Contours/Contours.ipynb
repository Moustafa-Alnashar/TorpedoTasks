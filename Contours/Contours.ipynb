{
 "cells": [
  {
   "cell_type": "code",
   "execution_count": 9,
   "metadata": {},
   "outputs": [],
   "source": [
    "import cv2\n",
    "import numpy as np"
   ]
  },
  {
   "cell_type": "code",
   "execution_count": 10,
   "metadata": {},
   "outputs": [],
   "source": [
    "img1 = cv2.imread(\"Ttpvb.jpg\")\n",
    "img2 = cv2.imread(\"9B6hJ.jpg\")\n",
    "\n",
    "assert img1 is not None\n",
    "assert img2 is not None\n",
    "\n",
    "Surface = \"Surface\""
   ]
  },
  {
   "cell_type": "code",
   "execution_count": 11,
   "metadata": {},
   "outputs": [],
   "source": [
    "def GetContours(img, \n",
    "                  GaussianKernel : tuple = (5, 5),\n",
    "                  median : int = 21,\n",
    "                  MorphologyKernel : tuple = (5,5),\n",
    "                  CannyThreshold_min : int = 50,\n",
    "                  CannyThreshold_max : int = 100):\n",
    "    \n",
    "    img_gray = cv2.cvtColor(img, cv2.COLOR_BGR2GRAY)\n",
    "\n",
    "    img_blur = cv2.GaussianBlur(img_gray, GaussianKernel, 0)\n",
    "\n",
    "    img_filtered = cv2.medianBlur(img_blur, median)\n",
    "\n",
    "    img_morph = cv2.morphologyEx(img_filtered, cv2.MORPH_OPEN, MorphologyKernel) \n",
    "    img_morph = cv2.morphologyEx(img_morph, cv2.MORPH_CLOSE, MorphologyKernel)\n",
    "\n",
    "    edges = cv2.Canny(img_morph,\n",
    "                      CannyThreshold_min,\n",
    "                      CannyThreshold_max)\n",
    "\n",
    "    return cv2.findContours(edges, cv2.RETR_EXTERNAL, cv2.CHAIN_APPROX_SIMPLE)"
   ]
  },
  {
   "cell_type": "code",
   "execution_count": 12,
   "metadata": {},
   "outputs": [],
   "source": [
    "def ShowContoursOnly(img, Surface, contours):\n",
    "    zero = np.zeros_like(img)\n",
    "\n",
    "    cv2.drawContours(zero, contours, -1, (0,255,0), 3)\n",
    "    cv2.imshow(Surface, zero)\n",
    "    "
   ]
  },
  {
   "cell_type": "code",
   "execution_count": 13,
   "metadata": {},
   "outputs": [],
   "source": [
    "def MyShowContours(img, Surface, contours):\n",
    "    for i, contour in enumerate(contours): \n",
    "        img_copy = img.copy()    \n",
    "        \n",
    "        cv2.drawContours(img_copy, [contour], -1, (0, 255, 0), 2) \n",
    "        cv2.imshow(Surface, img_copy) \n",
    "\n",
    "        key = cv2.waitKey(0)\n",
    "        if key == 27:\n",
    "            cv2.destroyAllWindows()\n",
    "            break"
   ]
  },
  {
   "cell_type": "code",
   "execution_count": 14,
   "metadata": {},
   "outputs": [],
   "source": [
    "contours1, _ = GetContours(img1)\n",
    "\n",
    "ShowContoursOnly(img1, Surface, contours1)\n",
    "cv2.waitKey(0)\n",
    "\n",
    "\n",
    "MyShowContours(img1, Surface, contours1)"
   ]
  },
  {
   "cell_type": "code",
   "execution_count": 19,
   "metadata": {},
   "outputs": [],
   "source": [
    "contours2, _ = GetContours(img2,median=37,MorphologyKernel=np.ones((1, 1)))\n",
    "# contours2, _ = GetContours(img2,median=5,MorphologyKernel=np.ones((1, 1)))\n",
    "\n",
    "\n",
    "ShowContoursOnly(img2, Surface, contours2)\n",
    "cv2.waitKey(0)\n",
    "\n",
    "\n",
    "MyShowContours(img2, Surface, contours2)"
   ]
  },
  {
   "cell_type": "code",
   "execution_count": 16,
   "metadata": {},
   "outputs": [],
   "source": [
    "#Destory prorgram objects\n",
    "cv2.destroyAllWindows()"
   ]
  }
 ],
 "metadata": {
  "kernelspec": {
   "display_name": "ImageProcessing",
   "language": "python",
   "name": "python3"
  },
  "language_info": {
   "codemirror_mode": {
    "name": "ipython",
    "version": 3
   },
   "file_extension": ".py",
   "mimetype": "text/x-python",
   "name": "python",
   "nbconvert_exporter": "python",
   "pygments_lexer": "ipython3",
   "version": "3.12.8"
  }
 },
 "nbformat": 4,
 "nbformat_minor": 2
}
