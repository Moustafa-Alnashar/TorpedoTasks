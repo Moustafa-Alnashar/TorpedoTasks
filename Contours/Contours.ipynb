{
 "cells": [
  {
   "cell_type": "code",
   "execution_count": 1,
   "metadata": {},
   "outputs": [],
   "source": [
    "import cv2\n",
    "import numpy as np"
   ]
  },
  {
   "cell_type": "code",
   "execution_count": 2,
   "metadata": {},
   "outputs": [],
   "source": [
    "img1 = cv2.imread(\"Ttpvb.jpg\")\n",
    "img2 = cv2.imread(\"9B6hJ.jpg\")\n",
    "\n",
    "assert img1 is not None\n",
    "assert img2 is not None\n",
    "\n",
    "Surface = \"Surface\""
   ]
  },
  {
   "cell_type": "code",
   "execution_count": 3,
   "metadata": {},
   "outputs": [
    {
     "name": "stdout",
     "output_type": "stream",
     "text": [
      "<class 'tuple'>\n"
     ]
    }
   ],
   "source": [
    "print(type(()))"
   ]
  },
  {
   "cell_type": "code",
   "execution_count": 8,
   "metadata": {},
   "outputs": [],
   "source": [
    "def MyGetContours(img, \n",
    "                  GaussianKernel : tuple = (5, 5),\n",
    "                  median : int = 21,\n",
    "                  MorphologyKernel : tuple = (5,5),\n",
    "                  CannyThreshold_min : int = 50,\n",
    "                  CannyThreshold_max : int = 100):\n",
    "    \n",
    "    img_gray = cv2.cvtColor(img, cv2.COLOR_BGR2GRAY)\n",
    "\n",
    "    img_blur = cv2.GaussianBlur(img_gray, GaussianKernel, 0)\n",
    "\n",
    "    img_filtered = cv2.medianBlur(img_blur, median)\n",
    "\n",
    "    img_morph = cv2.morphologyEx(img_filtered, cv2.MORPH_OPEN, MorphologyKernel) \n",
    "    img_morph = cv2.morphologyEx(img_morph, cv2.MORPH_CLOSE, MorphologyKernel)\n",
    "\n",
    "    edges = cv2.Canny(img_morph,\n",
    "                      CannyThreshold_min,\n",
    "                      CannyThreshold_max)\n",
    "\n",
    "    return cv2.findContours(edges, cv2.RETR_EXTERNAL, cv2.CHAIN_APPROX_SIMPLE)"
   ]
  },
  {
   "cell_type": "code",
   "execution_count": 5,
   "metadata": {},
   "outputs": [],
   "source": [
    "def ShowContoursOnly(img):\n",
    "    zero = np.zeros_like(img)\n",
    "\n",
    "    contours, _ = MyGetContours(img)\n",
    "\n",
    "    cv2.drawContours(zero, contours, -1, (0,255,0), 3)\n",
    "    cv2.imshow(Surface, zero)\n",
    "    "
   ]
  },
  {
   "cell_type": "code",
   "execution_count": 6,
   "metadata": {},
   "outputs": [],
   "source": [
    "def MyShowContours(img, window_name): \n",
    "    contours, _ = MyGetContours(img)\n",
    "    for i, contour in enumerate(contours): \n",
    "        img_copy = img.copy()    \n",
    "        \n",
    "        cv2.drawContours(img_copy, [contour], -1, (0, 255, 0), 2) \n",
    "        cv2.imshow(window_name, img_copy) \n",
    "\n",
    "        key = cv2.waitKey(0)\n",
    "        if key == 27:\n",
    "            cv2.destroyAllWindows()\n",
    "            break"
   ]
  },
  {
   "cell_type": "code",
   "execution_count": 7,
   "metadata": {},
   "outputs": [
    {
     "ename": "error",
     "evalue": "OpenCV(4.10.0) :-1: error: (-5:Bad argument) in function 'Canny'\n> Overload resolution failed:\n>  - Canny() missing required argument 'threshold2' (pos 3)\n>  - Canny() missing required argument 'threshold2' (pos 3)\n>  - Canny() missing required argument 'threshold1' (pos 3)\n>  - Canny() missing required argument 'threshold1' (pos 3)\n",
     "output_type": "error",
     "traceback": [
      "\u001b[1;31m---------------------------------------------------------------------------\u001b[0m",
      "\u001b[1;31merror\u001b[0m                                     Traceback (most recent call last)",
      "Cell \u001b[1;32mIn[7], line 1\u001b[0m\n\u001b[1;32m----> 1\u001b[0m \u001b[43mShowContoursOnly\u001b[49m\u001b[43m(\u001b[49m\u001b[43mimg1\u001b[49m\u001b[43m)\u001b[49m\n\u001b[0;32m      2\u001b[0m cv2\u001b[38;5;241m.\u001b[39mwaitKey(\u001b[38;5;241m0\u001b[39m)\n\u001b[0;32m      4\u001b[0m MyShowContours(img1, Surface)\n",
      "Cell \u001b[1;32mIn[5], line 4\u001b[0m, in \u001b[0;36mShowContoursOnly\u001b[1;34m(img)\u001b[0m\n\u001b[0;32m      1\u001b[0m \u001b[38;5;28;01mdef\u001b[39;00m \u001b[38;5;21mShowContoursOnly\u001b[39m(img):\n\u001b[0;32m      2\u001b[0m     zero \u001b[38;5;241m=\u001b[39m np\u001b[38;5;241m.\u001b[39mzeros_like(img)\n\u001b[1;32m----> 4\u001b[0m     contours, _ \u001b[38;5;241m=\u001b[39m \u001b[43mMyGetContours\u001b[49m\u001b[43m(\u001b[49m\u001b[43mimg\u001b[49m\u001b[43m)\u001b[49m\n\u001b[0;32m      6\u001b[0m     cv2\u001b[38;5;241m.\u001b[39mdrawContours(zero, contours, \u001b[38;5;241m-\u001b[39m\u001b[38;5;241m1\u001b[39m, (\u001b[38;5;241m0\u001b[39m,\u001b[38;5;241m255\u001b[39m,\u001b[38;5;241m0\u001b[39m), \u001b[38;5;241m3\u001b[39m)\n\u001b[0;32m      7\u001b[0m     cv2\u001b[38;5;241m.\u001b[39mimshow(Surface, zero)\n",
      "Cell \u001b[1;32mIn[4], line 15\u001b[0m, in \u001b[0;36mMyGetContours\u001b[1;34m(img, GaussianKernel, median, MorphologyKernel)\u001b[0m\n\u001b[0;32m     12\u001b[0m img_morph \u001b[38;5;241m=\u001b[39m cv2\u001b[38;5;241m.\u001b[39mmorphologyEx(img_filtered, cv2\u001b[38;5;241m.\u001b[39mMORPH_OPEN, kernel) \n\u001b[0;32m     13\u001b[0m img_morph \u001b[38;5;241m=\u001b[39m cv2\u001b[38;5;241m.\u001b[39mmorphologyEx(img_morph, cv2\u001b[38;5;241m.\u001b[39mMORPH_CLOSE, kernel)\n\u001b[1;32m---> 15\u001b[0m edges \u001b[38;5;241m=\u001b[39m \u001b[43mcv2\u001b[49m\u001b[38;5;241;43m.\u001b[39;49m\u001b[43mCanny\u001b[49m\u001b[43m(\u001b[49m\u001b[43mimg_morph\u001b[49m\u001b[43m,\u001b[49m\u001b[43m(\u001b[49m\u001b[38;5;241;43m50\u001b[39;49m\u001b[43m,\u001b[49m\u001b[38;5;241;43m100\u001b[39;49m\u001b[43m)\u001b[49m\u001b[43m)\u001b[49m\n\u001b[0;32m     17\u001b[0m \u001b[38;5;28;01mreturn\u001b[39;00m cv2\u001b[38;5;241m.\u001b[39mfindContours(edges, cv2\u001b[38;5;241m.\u001b[39mRETR_EXTERNAL, cv2\u001b[38;5;241m.\u001b[39mCHAIN_APPROX_SIMPLE)\n",
      "\u001b[1;31merror\u001b[0m: OpenCV(4.10.0) :-1: error: (-5:Bad argument) in function 'Canny'\n> Overload resolution failed:\n>  - Canny() missing required argument 'threshold2' (pos 3)\n>  - Canny() missing required argument 'threshold2' (pos 3)\n>  - Canny() missing required argument 'threshold1' (pos 3)\n>  - Canny() missing required argument 'threshold1' (pos 3)\n"
     ]
    }
   ],
   "source": [
    "ShowContoursOnly(img1)\n",
    "cv2.waitKey(0)\n",
    "\n",
    "MyShowContours(img1, Surface)"
   ]
  },
  {
   "cell_type": "code",
   "execution_count": 14,
   "metadata": {},
   "outputs": [],
   "source": [
    "ShowContoursOnly(img2)\n",
    "cv2.waitKey(0)\n",
    "\n",
    "MyShowContours(img2, Surface)"
   ]
  },
  {
   "cell_type": "code",
   "execution_count": 61,
   "metadata": {},
   "outputs": [],
   "source": [
    "img_gray = cv2.cvtColor(img2, cv2.COLOR_BGR2GRAY)\n",
    "\n",
    "img_blur = cv2.GaussianBlur(img_gray, (5, 5), 0)\n",
    "\n",
    "img_filtered = cv2.medianBlur(img_blur, 37)\n",
    "\n",
    "kernel = np.ones((0, 0), np.uint8) \n",
    "img_morph = cv2.morphologyEx(img_blur, cv2.MORPH_OPEN, kernel) \n",
    "img_morph = cv2.morphologyEx(img_morph, cv2.MORPH_CLOSE, kernel)\n",
    "\n",
    "edges = cv2.Canny(img_filtered,50,100)\n"
   ]
  },
  {
   "cell_type": "code",
   "execution_count": 5,
   "metadata": {},
   "outputs": [],
   "source": [
    "#Destory prorgram objects\n",
    "cv2.destroyAllWindows()"
   ]
  }
 ],
 "metadata": {
  "kernelspec": {
   "display_name": "ImageProcessing",
   "language": "python",
   "name": "python3"
  },
  "language_info": {
   "codemirror_mode": {
    "name": "ipython",
    "version": 3
   },
   "file_extension": ".py",
   "mimetype": "text/x-python",
   "name": "python",
   "nbconvert_exporter": "python",
   "pygments_lexer": "ipython3",
   "version": "3.12.8"
  }
 },
 "nbformat": 4,
 "nbformat_minor": 2
}
