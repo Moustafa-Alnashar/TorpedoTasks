{
 "cells": [
  {
   "cell_type": "code",
   "execution_count": 3,
   "metadata": {},
   "outputs": [],
   "source": [
    "import cv2\n",
    "import numpy as np"
   ]
  },
  {
   "cell_type": "code",
   "execution_count": 4,
   "metadata": {},
   "outputs": [],
   "source": [
    "vid_path = \"ImageSess2.mp4\"\n",
    "surface = \"surface\""
   ]
  },
  {
   "cell_type": "code",
   "execution_count": 5,
   "metadata": {},
   "outputs": [],
   "source": [
    "def MyShow(vid_path, func) -> None:\n",
    "    vid = cv2.VideoCapture(vid_path)\n",
    "    while vid.isOpened():\n",
    "        suc, frame = vid.read()\n",
    "\n",
    "        if not suc:\n",
    "            key = cv2.waitKey(0)\n",
    "            if key == ord('r'):\n",
    "                vid.release()\n",
    "                vid = cv2.VideoCapture(vid_path)\n",
    "                continue\n",
    "            elif key == 27:\n",
    "                cv2.destroyAllWindows()\n",
    "                break\n",
    "            else:\n",
    "                break\n",
    "        \n",
    "        frame = func(frame)\n",
    "\n",
    "        cv2.imshow(surface, frame)    \n",
    "\n",
    "        if cv2.waitKey(1) == ord('q'):\n",
    "            break\n",
    "\n",
    "    vid.release()\n",
    "    "
   ]
  },
  {
   "cell_type": "code",
   "execution_count": 17,
   "metadata": {},
   "outputs": [],
   "source": [
    "#Regular video\n",
    "\n",
    "MyShow(vid_path, lambda frame : frame)"
   ]
  },
  {
   "cell_type": "code",
   "execution_count": 7,
   "metadata": {},
   "outputs": [],
   "source": [
    "#Average Blur\n",
    "\n",
    "MyShow(vid_path, lambda frame : cv2.blur(frame, (5,5), 0))"
   ]
  },
  {
   "cell_type": "code",
   "execution_count": 8,
   "metadata": {},
   "outputs": [],
   "source": [
    "#Gaussian Blur\n",
    "\n",
    "MyShow(vid_path, lambda frame : cv2.GaussianBlur(frame, (5,5), 0))"
   ]
  },
  {
   "cell_type": "code",
   "execution_count": 9,
   "metadata": {},
   "outputs": [],
   "source": [
    "#Median Blur\n",
    "\n",
    "MyShow(vid_path, lambda frame : cv2.medianBlur(frame, 5))"
   ]
  },
  {
   "cell_type": "code",
   "execution_count": 30,
   "metadata": {},
   "outputs": [],
   "source": [
    "#Edge Detection\n",
    "#Soble\n",
    "def sobel_edge_detection(frame):\n",
    "       frame = cv2.GaussianBlur(frame, (5,5), 0)\n",
    "       frame = cv2.cvtColor(frame, cv2.COLOR_BGR2GRAY)\n",
    "       sobel_x = cv2.Sobel(frame, cv2.CV_64F, 1, 0, ksize=3) \n",
    "       sobel_y = cv2.Sobel(frame, cv2.CV_64F, 0, 1, ksize=3) \n",
    "       sobel = cv2.magnitude(sobel_x, sobel_y) \n",
    "       return np.uint8(sobel)\n",
    "\n",
    "\n",
    "MyShow(vid_path, sobel_edge_detection)"
   ]
  },
  {
   "cell_type": "code",
   "execution_count": 24,
   "metadata": {},
   "outputs": [],
   "source": [
    "#Edge Detection\n",
    "#Canny\n",
    "\n",
    "MyShow(vid_path, lambda frame: cv2.Canny(frame,22,100))"
   ]
  },
  {
   "cell_type": "code",
   "execution_count": 11,
   "metadata": {},
   "outputs": [],
   "source": [
    "#Bilateral Filter\n",
    "\n",
    "MyShow(vid_path, lambda frame : cv2.bilateralFilter(frame, 9, 75, 75))"
   ]
  },
  {
   "cell_type": "code",
   "execution_count": 12,
   "metadata": {},
   "outputs": [],
   "source": [
    "#BGR to GRAY Scale\n",
    "\n",
    "MyShow(vid_path, lambda frame : cv2.cvtColor(frame, cv2.COLOR_BGR2GRAY))"
   ]
  },
  {
   "cell_type": "code",
   "execution_count": 13,
   "metadata": {},
   "outputs": [],
   "source": [
    "#Destory all program objects\n",
    "cv2.destroyAllWindows()"
   ]
  },
  {
   "cell_type": "markdown",
   "metadata": {},
   "source": [
    "Cool Errors"
   ]
  },
  {
   "cell_type": "code",
   "execution_count": 31,
   "metadata": {},
   "outputs": [],
   "source": [
    "def sobel_edge_detection(frame):\n",
    "       frame = cv2.GaussianBlur(frame, (5,5), 0)\n",
    "       frame = cv2.cvtColor(frame, cv2.COLOR_BGR2GRAY)\n",
    "       sobel_x = cv2.Sobel(frame, cv2.CV_64F, 1, 0, ksize=3) \n",
    "       sobel_y = cv2.Sobel(frame, cv2.CV_64F, 0, 1, ksize=3) \n",
    "       sobel = cv2.bitwise_or(sobel_x,sobel_y)\n",
    "       sobel = cv2.normalize(sobel, None, 0, 255, cv2.NORM_MINMAX)\n",
    "       sobel = np.nan_to_num(sobel)\n",
    "       sobel = np.clip(sobel, 0, 255)\n",
    "       return np.uint8(sobel)\n",
    "\n",
    "\n",
    "MyShow(vid_path, sobel_edge_detection)"
   ]
  },
  {
   "cell_type": "code",
   "execution_count": 33,
   "metadata": {},
   "outputs": [],
   "source": [
    "def sobel_edge_detection(frame):\n",
    "       frame = cv2.GaussianBlur(frame, (5,5), 0)\n",
    "       frame = cv2.cvtColor(frame, cv2.COLOR_BGR2GRAY)\n",
    "       sobel_x = cv2.Sobel(frame, cv2.CV_64F, 1, 0, ksize=3) \n",
    "       sobel_y = cv2.Sobel(frame, cv2.CV_64F, 0, 1, ksize=3) \n",
    "       sobel = cv2.bitwise_or(sobel_x,sobel_y)\n",
    "       return sobel\n",
    "\n",
    "\n",
    "MyShow(vid_path, sobel_edge_detection)"
   ]
  },
  {
   "cell_type": "code",
   "execution_count": 16,
   "metadata": {},
   "outputs": [],
   "source": [
    "#Destory all program objects\n",
    "cv2.destroyAllWindows()"
   ]
  }
 ],
 "metadata": {
  "kernelspec": {
   "display_name": "ImageProcessing",
   "language": "python",
   "name": "python3"
  },
  "language_info": {
   "codemirror_mode": {
    "name": "ipython",
    "version": 3
   },
   "file_extension": ".py",
   "mimetype": "text/x-python",
   "name": "python",
   "nbconvert_exporter": "python",
   "pygments_lexer": "ipython3",
   "version": "3.12.8"
  }
 },
 "nbformat": 4,
 "nbformat_minor": 2
}
